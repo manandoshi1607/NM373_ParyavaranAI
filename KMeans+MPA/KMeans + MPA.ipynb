{
 "cells": [
  {
   "cell_type": "markdown",
   "metadata": {},
   "source": [
    "### Importing Libraries"
   ]
  },
  {
   "cell_type": "code",
   "execution_count": 32,
   "metadata": {},
   "outputs": [],
   "source": [
    "import numpy as np\n",
    "import cv2\n",
    "import math\n",
    "import matplotlib.pyplot as plt"
   ]
  },
  {
   "attachments": {},
   "cell_type": "markdown",
   "metadata": {},
   "source": [
    "### Cloud Detection\n",
    "\n",
    "1. INSAT-3D TIR captures preprocessed using gdal and rasterio packages.\n",
    "2. Apply KMeans clustering with k set to 4.\n",
    "3. Remove background considering darkest cluster to be clear sky.\n",
    "4. Return Centre Of Mass for every cloud cluster."
   ]
  },
  {
   "cell_type": "code",
   "execution_count": 43,
   "metadata": {},
   "outputs": [],
   "source": [
    "def cloud_detection(timestamp):\n",
    "    img = cv2.imread('./images/' + timestamp + '.png')\n",
    "    Z = img.reshape((-1,3))\n",
    "\n",
    "    # convert to np.float32\n",
    "    Z = np.float32(Z)\n",
    "\n",
    "    # define criteria, number of clusters(K) and apply kmeans()\n",
    "    criteria = (cv2.TERM_CRITERIA_EPS + cv2.TERM_CRITERIA_MAX_ITER, 10, 1.0)\n",
    "    K = 4\n",
    "    ret,label,center=cv2.kmeans(Z,K,None,criteria,10,cv2.KMEANS_RANDOM_CENTERS)\n",
    "\n",
    "    # Now convert back into uint8, and make original image\n",
    "    center = np.uint8(center)\n",
    "    res = center[label.flatten()]\n",
    "    res2 = res.reshape((img.shape))\n",
    "    res2bw = cv2.cvtColor(res2, cv2.COLOR_BGR2GRAY)\n",
    "    colors = np.unique(res2bw)\n",
    "\n",
    "    # Removing background, since the darkest color is sky\n",
    "    colors = colors[1:]\n",
    "    # print(colors)\n",
    "\n",
    "    com = {}\n",
    "    for i in range(0, len(colors)):\n",
    "        filter_mask = (res2bw == colors[i]).astype(int)\n",
    "        filter_mask = cv2.convertScaleAbs(filter_mask, alpha=(255.0))\n",
    "        co_ordinates = np.where(filter_mask == 0)\n",
    "        x = co_ordinates[0]\n",
    "        y = co_ordinates[1]\n",
    "        mean_x = np.mean(x)\n",
    "        mean_y = np.mean(y)\n",
    "        com[i] = [round(mean_x, 2), round(mean_y, 2)]\n",
    "    \n",
    "    return com"
   ]
  },
  {
   "attachments": {},
   "cell_type": "markdown",
   "metadata": {},
   "source": [
    "### Mean Path Adjustment\n",
    "\n",
    "1. Let previous CoM positions be: t - 1, t - 2\n",
    "2. Let at be the actual CoM position at t\n",
    "3. Predicted mean CoM at t = mean(t - 1, t - 2)\n",
    "4. Next prediction for t+1 = mean(at, t) + (at-t)\n",
    "\n",
    "Adopts itself to abrupt changes in cloud positions by:\n",
    "- Using actual and predicted values for next prediction \n",
    "- Correcting its prediction by adding the errors"
   ]
  },
  {
   "cell_type": "code",
   "execution_count": 44,
   "metadata": {},
   "outputs": [],
   "source": [
    "def mean_path_adjustment(com1, com2, com3, com4): \n",
    "    predicted = {}\n",
    "    error = {}\n",
    "    for cloud_index in range(0, len(com1)):\n",
    "        x1 = com1[cloud_index][0]\n",
    "        y1 = com1[cloud_index][1]\n",
    "\n",
    "        x2 = com2[cloud_index][0]\n",
    "        y2 = com2[cloud_index][1]\n",
    "\n",
    "        x3 = com3[cloud_index][0]\n",
    "        y3 = com3[cloud_index][1]\n",
    "\n",
    "        x4 = com4[cloud_index][0]\n",
    "        y4 = com4[cloud_index][1]\n",
    "\n",
    "        x = (x1 + x2) / 2\n",
    "        y = (y1 + y2) / 2\n",
    "\n",
    "        predicted_x4 = ((x + x3) / 2) + (x3 - x)\n",
    "        predicted_y4 = ((y + y3) / 2) + (y3 - y)\n",
    "\n",
    "        predicted[cloud_index] = [predicted_x4, predicted_y4]\n",
    "        error[cloud_index] = round(math.sqrt(pow(abs(predicted_x4 - x4), 2) + pow(abs(predicted_y4 - y4), 2)), 2)\n",
    "\n",
    "    '''print(\"Actual COM at t + 1: \", com4)\n",
    "    print(\"Predicted COM at t + 1: \", predicted)\n",
    "    print(\"Error: \", error)'''\n",
    "    \n",
    "    return com4, predicted, error"
   ]
  },
  {
   "cell_type": "markdown",
   "metadata": {},
   "source": [
    "### Testing MPA"
   ]
  },
  {
   "cell_type": "code",
   "execution_count": 38,
   "metadata": {},
   "outputs": [],
   "source": [
    "com_dict = {}\n",
    "error = {}\n",
    "predicted = {}\n",
    "for i in range(2, 41):\n",
    "    if i not in com_dict:\n",
    "        com_dict[i] = cloud_detection(str(i))\n",
    "    \n",
    "    if i+1 not in com_dict:\n",
    "        com_dict[i+1] = cloud_detection(str(i+1))\n",
    "    \n",
    "    if i+2 not in com_dict:\n",
    "        com_dict[i+2] = cloud_detection(str(i+2))\n",
    "    \n",
    "    if i+3 not in com_dict:\n",
    "        com_dict[i+3] = cloud_detection(str(i+3))\n",
    "    \n",
    "    actual, predicted[i], error[i] = mean_path_adjustment(com_dict[i], com_dict[i+1], com_dict[i+2], com_dict[i+3])"
   ]
  },
  {
   "cell_type": "markdown",
   "metadata": {},
   "source": [
    "### Error Calculations"
   ]
  },
  {
   "cell_type": "code",
   "execution_count": 41,
   "metadata": {},
   "outputs": [
    {
     "data": {
      "text/html": [
       "<div>\n",
       "<style scoped>\n",
       "    .dataframe tbody tr th:only-of-type {\n",
       "        vertical-align: middle;\n",
       "    }\n",
       "\n",
       "    .dataframe tbody tr th {\n",
       "        vertical-align: top;\n",
       "    }\n",
       "\n",
       "    .dataframe thead th {\n",
       "        text-align: right;\n",
       "    }\n",
       "</style>\n",
       "<table border=\"1\" class=\"dataframe\">\n",
       "  <thead>\n",
       "    <tr style=\"text-align: right;\">\n",
       "      <th></th>\n",
       "      <th>2</th>\n",
       "      <th>3</th>\n",
       "      <th>4</th>\n",
       "      <th>5</th>\n",
       "      <th>6</th>\n",
       "      <th>7</th>\n",
       "      <th>8</th>\n",
       "      <th>9</th>\n",
       "      <th>10</th>\n",
       "      <th>11</th>\n",
       "      <th>...</th>\n",
       "      <th>31</th>\n",
       "      <th>32</th>\n",
       "      <th>33</th>\n",
       "      <th>34</th>\n",
       "      <th>35</th>\n",
       "      <th>36</th>\n",
       "      <th>37</th>\n",
       "      <th>38</th>\n",
       "      <th>39</th>\n",
       "      <th>40</th>\n",
       "    </tr>\n",
       "  </thead>\n",
       "  <tbody>\n",
       "    <tr>\n",
       "      <th>0</th>\n",
       "      <td>36.39</td>\n",
       "      <td>43.35</td>\n",
       "      <td>53.55</td>\n",
       "      <td>24.68</td>\n",
       "      <td>7.60</td>\n",
       "      <td>10.22</td>\n",
       "      <td>3.32</td>\n",
       "      <td>5.23</td>\n",
       "      <td>4.96</td>\n",
       "      <td>5.01</td>\n",
       "      <td>...</td>\n",
       "      <td>2.54</td>\n",
       "      <td>0.95</td>\n",
       "      <td>8.65</td>\n",
       "      <td>9.57</td>\n",
       "      <td>9.16</td>\n",
       "      <td>2.67</td>\n",
       "      <td>1.39</td>\n",
       "      <td>1.80</td>\n",
       "      <td>3.34</td>\n",
       "      <td>2.79</td>\n",
       "    </tr>\n",
       "    <tr>\n",
       "      <th>1</th>\n",
       "      <td>55.86</td>\n",
       "      <td>16.65</td>\n",
       "      <td>42.56</td>\n",
       "      <td>17.05</td>\n",
       "      <td>3.10</td>\n",
       "      <td>19.18</td>\n",
       "      <td>8.32</td>\n",
       "      <td>2.77</td>\n",
       "      <td>1.44</td>\n",
       "      <td>0.40</td>\n",
       "      <td>...</td>\n",
       "      <td>0.73</td>\n",
       "      <td>1.59</td>\n",
       "      <td>10.48</td>\n",
       "      <td>9.05</td>\n",
       "      <td>7.94</td>\n",
       "      <td>5.20</td>\n",
       "      <td>1.57</td>\n",
       "      <td>1.78</td>\n",
       "      <td>3.35</td>\n",
       "      <td>4.30</td>\n",
       "    </tr>\n",
       "    <tr>\n",
       "      <th>2</th>\n",
       "      <td>0.94</td>\n",
       "      <td>0.87</td>\n",
       "      <td>1.61</td>\n",
       "      <td>0.48</td>\n",
       "      <td>0.29</td>\n",
       "      <td>1.70</td>\n",
       "      <td>1.80</td>\n",
       "      <td>0.86</td>\n",
       "      <td>0.32</td>\n",
       "      <td>0.71</td>\n",
       "      <td>...</td>\n",
       "      <td>0.36</td>\n",
       "      <td>0.81</td>\n",
       "      <td>0.50</td>\n",
       "      <td>2.52</td>\n",
       "      <td>1.30</td>\n",
       "      <td>1.40</td>\n",
       "      <td>0.64</td>\n",
       "      <td>0.61</td>\n",
       "      <td>0.32</td>\n",
       "      <td>0.61</td>\n",
       "    </tr>\n",
       "  </tbody>\n",
       "</table>\n",
       "<p>3 rows × 39 columns</p>\n",
       "</div>"
      ],
      "text/plain": [
       "      2      3      4      5     6      7     8     9     10    11  ...    31  \\\n",
       "0  36.39  43.35  53.55  24.68  7.60  10.22  3.32  5.23  4.96  5.01  ...  2.54   \n",
       "1  55.86  16.65  42.56  17.05  3.10  19.18  8.32  2.77  1.44  0.40  ...  0.73   \n",
       "2   0.94   0.87   1.61   0.48  0.29   1.70  1.80  0.86  0.32  0.71  ...  0.36   \n",
       "\n",
       "     32     33    34    35    36    37    38    39    40  \n",
       "0  0.95   8.65  9.57  9.16  2.67  1.39  1.80  3.34  2.79  \n",
       "1  1.59  10.48  9.05  7.94  5.20  1.57  1.78  3.35  4.30  \n",
       "2  0.81   0.50  2.52  1.30  1.40  0.64  0.61  0.32  0.61  \n",
       "\n",
       "[3 rows x 39 columns]"
      ]
     },
     "execution_count": 41,
     "metadata": {},
     "output_type": "execute_result"
    }
   ],
   "source": [
    "import pandas as pd\n",
    "df = pd.DataFrame(error)\n",
    "df"
   ]
  },
  {
   "cell_type": "code",
   "execution_count": 45,
   "metadata": {},
   "outputs": [
    {
     "data": {
      "text/plain": [
       "0    11.842051\n",
       "1    11.019487\n",
       "2     1.248718\n",
       "dtype: float64"
      ]
     },
     "execution_count": 45,
     "metadata": {},
     "output_type": "execute_result"
    }
   ],
   "source": [
    "df.mean(axis=1)"
   ]
  },
  {
   "cell_type": "code",
   "execution_count": null,
   "metadata": {},
   "outputs": [],
   "source": []
  }
 ],
 "metadata": {
  "kernelspec": {
   "display_name": "Python 3",
   "language": "python",
   "name": "python3"
  },
  "language_info": {
   "codemirror_mode": {
    "name": "ipython",
    "version": 3
   },
   "file_extension": ".py",
   "mimetype": "text/x-python",
   "name": "python",
   "nbconvert_exporter": "python",
   "pygments_lexer": "ipython3",
   "version": "3.6.3"
  }
 },
 "nbformat": 4,
 "nbformat_minor": 4
}
